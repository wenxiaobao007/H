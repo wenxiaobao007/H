{
 "cells": [
  {
   "cell_type": "markdown",
   "metadata": {},
   "source": [
    "# 数据预处理与统计分析"
   ]
  },
  {
   "cell_type": "markdown",
   "metadata": {},
   "source": [
    "导入数据"
   ]
  },
  {
   "cell_type": "code",
   "execution_count": 27,
   "metadata": {
    "scrolled": true
   },
   "outputs": [
    {
     "name": "stdout",
     "output_type": "stream",
     "text": [
      "(70680, 9)\n"
     ]
    },
    {
     "data": {
      "text/html": [
       "<div>\n",
       "<style scoped>\n",
       "    .dataframe tbody tr th:only-of-type {\n",
       "        vertical-align: middle;\n",
       "    }\n",
       "\n",
       "    .dataframe tbody tr th {\n",
       "        vertical-align: top;\n",
       "    }\n",
       "\n",
       "    .dataframe thead th {\n",
       "        text-align: right;\n",
       "    }\n",
       "</style>\n",
       "<table border=\"1\" class=\"dataframe\">\n",
       "  <thead>\n",
       "    <tr style=\"text-align: right;\">\n",
       "      <th></th>\n",
       "      <th>订单号</th>\n",
       "      <th>设备ID</th>\n",
       "      <th>应付金额</th>\n",
       "      <th>实际金额</th>\n",
       "      <th>商品</th>\n",
       "      <th>支付时间</th>\n",
       "      <th>地点</th>\n",
       "      <th>状态</th>\n",
       "      <th>提现</th>\n",
       "    </tr>\n",
       "  </thead>\n",
       "  <tbody>\n",
       "    <tr>\n",
       "      <th>0</th>\n",
       "      <td>DD201708167493663618499909784</td>\n",
       "      <td>E43A6E078A07631</td>\n",
       "      <td>4.5</td>\n",
       "      <td>4.5</td>\n",
       "      <td>68g好丽友巧克力派2枚</td>\n",
       "      <td>2017/1/1 0:53</td>\n",
       "      <td>D</td>\n",
       "      <td>已出货未退款</td>\n",
       "      <td>已提现</td>\n",
       "    </tr>\n",
       "    <tr>\n",
       "      <th>1</th>\n",
       "      <td>DD201708167493663555814061164</td>\n",
       "      <td>E43A6E078A04172</td>\n",
       "      <td>3.0</td>\n",
       "      <td>3.0</td>\n",
       "      <td>40g双汇玉米热狗肠</td>\n",
       "      <td>2017/1/1 1:33</td>\n",
       "      <td>A</td>\n",
       "      <td>已出货未退款</td>\n",
       "      <td>已提现</td>\n",
       "    </tr>\n",
       "    <tr>\n",
       "      <th>2</th>\n",
       "      <td>DD201708167493578526890939886</td>\n",
       "      <td>E43A6E078A06874</td>\n",
       "      <td>5.5</td>\n",
       "      <td>5.5</td>\n",
       "      <td>430g泰奇八宝粥</td>\n",
       "      <td>2017/1/1 8:45</td>\n",
       "      <td>E</td>\n",
       "      <td>已出货未退款</td>\n",
       "      <td>已提现</td>\n",
       "    </tr>\n",
       "    <tr>\n",
       "      <th>3</th>\n",
       "      <td>DD201708167493683507186615837</td>\n",
       "      <td>E43A6E078A04228</td>\n",
       "      <td>5.0</td>\n",
       "      <td>5.0</td>\n",
       "      <td>48g好丽友薯愿香烤原味</td>\n",
       "      <td>2017/1/1 9:05</td>\n",
       "      <td>C</td>\n",
       "      <td>已出货未退款</td>\n",
       "      <td>已提现</td>\n",
       "    </tr>\n",
       "    <tr>\n",
       "      <th>4</th>\n",
       "      <td>DD201708167493759548618252006</td>\n",
       "      <td>E43A6E078A04134</td>\n",
       "      <td>3.0</td>\n",
       "      <td>3.0</td>\n",
       "      <td>600ml可口可乐</td>\n",
       "      <td>2017/1/1 9:41</td>\n",
       "      <td>B</td>\n",
       "      <td>已出货未退款</td>\n",
       "      <td>已提现</td>\n",
       "    </tr>\n",
       "  </tbody>\n",
       "</table>\n",
       "</div>"
      ],
      "text/plain": [
       "                             订单号             设备ID  应付金额  实际金额            商品  \\\n",
       "0  DD201708167493663618499909784  E43A6E078A07631   4.5   4.5  68g好丽友巧克力派2枚   \n",
       "1  DD201708167493663555814061164  E43A6E078A04172   3.0   3.0    40g双汇玉米热狗肠   \n",
       "2  DD201708167493578526890939886  E43A6E078A06874   5.5   5.5     430g泰奇八宝粥   \n",
       "3  DD201708167493683507186615837  E43A6E078A04228   5.0   5.0  48g好丽友薯愿香烤原味   \n",
       "4  DD201708167493759548618252006  E43A6E078A04134   3.0   3.0     600ml可口可乐   \n",
       "\n",
       "            支付时间 地点      状态   提现  \n",
       "0  2017/1/1 0:53  D  已出货未退款  已提现  \n",
       "1  2017/1/1 1:33  A  已出货未退款  已提现  \n",
       "2  2017/1/1 8:45  E  已出货未退款  已提现  \n",
       "3  2017/1/1 9:05  C  已出货未退款  已提现  \n",
       "4  2017/1/1 9:41  B  已出货未退款  已提现  "
      ]
     },
     "execution_count": 27,
     "metadata": {},
     "output_type": "execute_result"
    }
   ],
   "source": [
    "import pandas as pd\n",
    "f = open('附件1.csv')\n",
    "data1 = pd.read_csv(f)\n",
    "f.close()\n",
    "print(data1.shape)\n",
    "data1.head()\n"
   ]
  },
  {
   "cell_type": "code",
   "execution_count": 33,
   "metadata": {},
   "outputs": [
    {
     "name": "stdout",
     "output_type": "stream",
     "text": [
      "(315, 3)\n"
     ]
    },
    {
     "data": {
      "text/html": [
       "<div>\n",
       "<style scoped>\n",
       "    .dataframe tbody tr th:only-of-type {\n",
       "        vertical-align: middle;\n",
       "    }\n",
       "\n",
       "    .dataframe tbody tr th {\n",
       "        vertical-align: top;\n",
       "    }\n",
       "\n",
       "    .dataframe thead th {\n",
       "        text-align: right;\n",
       "    }\n",
       "</style>\n",
       "<table border=\"1\" class=\"dataframe\">\n",
       "  <thead>\n",
       "    <tr style=\"text-align: right;\">\n",
       "      <th></th>\n",
       "      <th>商品</th>\n",
       "      <th>大类</th>\n",
       "      <th>二级类</th>\n",
       "    </tr>\n",
       "  </thead>\n",
       "  <tbody>\n",
       "    <tr>\n",
       "      <th>0</th>\n",
       "      <td>100g*5瓶益力多</td>\n",
       "      <td>饮料</td>\n",
       "      <td>乳制品</td>\n",
       "    </tr>\n",
       "    <tr>\n",
       "      <th>1</th>\n",
       "      <td>100g越南LIPO奶味面包干</td>\n",
       "      <td>非饮料</td>\n",
       "      <td>饼干糕点</td>\n",
       "    </tr>\n",
       "    <tr>\n",
       "      <th>2</th>\n",
       "      <td>10g卫龙亲嘴烧香辣味</td>\n",
       "      <td>非饮料</td>\n",
       "      <td>肉干/豆制品/蛋</td>\n",
       "    </tr>\n",
       "    <tr>\n",
       "      <th>3</th>\n",
       "      <td>10g越南LIPO奶味面包干</td>\n",
       "      <td>非饮料</td>\n",
       "      <td>饼干糕点</td>\n",
       "    </tr>\n",
       "    <tr>\n",
       "      <th>4</th>\n",
       "      <td>110g顺宝九制话梅</td>\n",
       "      <td>非饮料</td>\n",
       "      <td>蜜饯/果干</td>\n",
       "    </tr>\n",
       "    <tr>\n",
       "      <th>5</th>\n",
       "      <td>120g达利园蔓越莓提子面包</td>\n",
       "      <td>非饮料</td>\n",
       "      <td>饼干糕点</td>\n",
       "    </tr>\n",
       "    <tr>\n",
       "      <th>6</th>\n",
       "      <td>12g劲仔小鱼（香辣味）</td>\n",
       "      <td>非饮料</td>\n",
       "      <td>肉干/豆制品/蛋</td>\n",
       "    </tr>\n",
       "    <tr>\n",
       "      <th>7</th>\n",
       "      <td>12g劲仔小鱼麻辣味</td>\n",
       "      <td>非饮料</td>\n",
       "      <td>肉干/豆制品/蛋</td>\n",
       "    </tr>\n",
       "    <tr>\n",
       "      <th>8</th>\n",
       "      <td>13g无穷烤鸡小腿蜂蜜味</td>\n",
       "      <td>非饮料</td>\n",
       "      <td>肉干/豆制品/蛋</td>\n",
       "    </tr>\n",
       "    <tr>\n",
       "      <th>9</th>\n",
       "      <td>145ml旺仔牛奶罐装</td>\n",
       "      <td>饮料</td>\n",
       "      <td>乳制品</td>\n",
       "    </tr>\n",
       "  </tbody>\n",
       "</table>\n",
       "</div>"
      ],
      "text/plain": [
       "                商品   大类       二级类\n",
       "0       100g*5瓶益力多   饮料       乳制品\n",
       "1  100g越南LIPO奶味面包干  非饮料      饼干糕点\n",
       "2      10g卫龙亲嘴烧香辣味  非饮料  肉干/豆制品/蛋\n",
       "3   10g越南LIPO奶味面包干  非饮料      饼干糕点\n",
       "4       110g顺宝九制话梅  非饮料     蜜饯/果干\n",
       "5   120g达利园蔓越莓提子面包  非饮料      饼干糕点\n",
       "6     12g劲仔小鱼（香辣味）  非饮料  肉干/豆制品/蛋\n",
       "7       12g劲仔小鱼麻辣味  非饮料  肉干/豆制品/蛋\n",
       "8     13g无穷烤鸡小腿蜂蜜味  非饮料  肉干/豆制品/蛋\n",
       "9      145ml旺仔牛奶罐装   饮料       乳制品"
      ]
     },
     "execution_count": 33,
     "metadata": {},
     "output_type": "execute_result"
    }
   ],
   "source": [
    "ff = open('附件2.csv')\n",
    "data2 = pd.read_csv(ff)\n",
    "ff.close()\n",
    "print(data2.shape)\n",
    "data2.head(10)"
   ]
  },
  {
   "cell_type": "markdown",
   "metadata": {},
   "source": [
    "查看应付金额和实付金额的汇总统计"
   ]
  },
  {
   "cell_type": "code",
   "execution_count": 2,
   "metadata": {},
   "outputs": [
    {
     "data": {
      "text/html": [
       "<div>\n",
       "<style scoped>\n",
       "    .dataframe tbody tr th:only-of-type {\n",
       "        vertical-align: middle;\n",
       "    }\n",
       "\n",
       "    .dataframe tbody tr th {\n",
       "        vertical-align: top;\n",
       "    }\n",
       "\n",
       "    .dataframe thead th {\n",
       "        text-align: right;\n",
       "    }\n",
       "</style>\n",
       "<table border=\"1\" class=\"dataframe\">\n",
       "  <thead>\n",
       "    <tr style=\"text-align: right;\">\n",
       "      <th></th>\n",
       "      <th>应付金额</th>\n",
       "      <th>实际金额</th>\n",
       "    </tr>\n",
       "  </thead>\n",
       "  <tbody>\n",
       "    <tr>\n",
       "      <th>count</th>\n",
       "      <td>70680.000000</td>\n",
       "      <td>70680.000000</td>\n",
       "    </tr>\n",
       "    <tr>\n",
       "      <th>mean</th>\n",
       "      <td>4.060324</td>\n",
       "      <td>4.060324</td>\n",
       "    </tr>\n",
       "    <tr>\n",
       "      <th>std</th>\n",
       "      <td>3.357908</td>\n",
       "      <td>3.357908</td>\n",
       "    </tr>\n",
       "    <tr>\n",
       "      <th>min</th>\n",
       "      <td>0.000000</td>\n",
       "      <td>0.000000</td>\n",
       "    </tr>\n",
       "    <tr>\n",
       "      <th>25%</th>\n",
       "      <td>3.000000</td>\n",
       "      <td>3.000000</td>\n",
       "    </tr>\n",
       "    <tr>\n",
       "      <th>50%</th>\n",
       "      <td>3.500000</td>\n",
       "      <td>3.500000</td>\n",
       "    </tr>\n",
       "    <tr>\n",
       "      <th>75%</th>\n",
       "      <td>4.500000</td>\n",
       "      <td>4.500000</td>\n",
       "    </tr>\n",
       "    <tr>\n",
       "      <th>max</th>\n",
       "      <td>125.000000</td>\n",
       "      <td>125.000000</td>\n",
       "    </tr>\n",
       "  </tbody>\n",
       "</table>\n",
       "</div>"
      ],
      "text/plain": [
       "               应付金额          实际金额\n",
       "count  70680.000000  70680.000000\n",
       "mean       4.060324      4.060324\n",
       "std        3.357908      3.357908\n",
       "min        0.000000      0.000000\n",
       "25%        3.000000      3.000000\n",
       "50%        3.500000      3.500000\n",
       "75%        4.500000      4.500000\n",
       "max      125.000000    125.000000"
      ]
     },
     "execution_count": 2,
     "metadata": {},
     "output_type": "execute_result"
    }
   ],
   "source": [
    "data1.describe()"
   ]
  },
  {
   "cell_type": "markdown",
   "metadata": {},
   "source": [
    "统计应付金额为0的订单数量，即免单数量"
   ]
  },
  {
   "cell_type": "code",
   "execution_count": 25,
   "metadata": {},
   "outputs": [
    {
     "data": {
      "text/plain": [
       "订单号     202\n",
       "设备ID    202\n",
       "应付金额    202\n",
       "实际金额    202\n",
       "商品      202\n",
       "支付时间    202\n",
       "地点      202\n",
       "状态      202\n",
       "提现      202\n",
       "dtype: int64"
      ]
     },
     "execution_count": 25,
     "metadata": {},
     "output_type": "execute_result"
    }
   ],
   "source": [
    "data1[data1.应付金额.values==0].count()"
   ]
  },
  {
   "cell_type": "markdown",
   "metadata": {},
   "source": [
    "统计商品种类数量"
   ]
  },
  {
   "cell_type": "code",
   "execution_count": 26,
   "metadata": {},
   "outputs": [
    {
     "data": {
      "text/plain": [
       "303"
      ]
     },
     "execution_count": 26,
     "metadata": {},
     "output_type": "execute_result"
    }
   ],
   "source": [
    "data1.商品.nunique()"
   ]
  },
  {
   "cell_type": "markdown",
   "metadata": {},
   "source": [
    "统计各个地点的销售总额"
   ]
  },
  {
   "cell_type": "code",
   "execution_count": 32,
   "metadata": {},
   "outputs": [
    {
     "data": {
      "text/html": [
       "<div>\n",
       "<style scoped>\n",
       "    .dataframe tbody tr th:only-of-type {\n",
       "        vertical-align: middle;\n",
       "    }\n",
       "\n",
       "    .dataframe tbody tr th {\n",
       "        vertical-align: top;\n",
       "    }\n",
       "\n",
       "    .dataframe thead th {\n",
       "        text-align: right;\n",
       "    }\n",
       "</style>\n",
       "<table border=\"1\" class=\"dataframe\">\n",
       "  <thead>\n",
       "    <tr style=\"text-align: right;\">\n",
       "      <th></th>\n",
       "      <th>实际金额</th>\n",
       "    </tr>\n",
       "    <tr>\n",
       "      <th>地点</th>\n",
       "      <th></th>\n",
       "    </tr>\n",
       "  </thead>\n",
       "  <tbody>\n",
       "    <tr>\n",
       "      <th>A</th>\n",
       "      <td>42542.6</td>\n",
       "    </tr>\n",
       "    <tr>\n",
       "      <th>B</th>\n",
       "      <td>53970.3</td>\n",
       "    </tr>\n",
       "    <tr>\n",
       "      <th>C</th>\n",
       "      <td>61572.1</td>\n",
       "    </tr>\n",
       "    <tr>\n",
       "      <th>D</th>\n",
       "      <td>33243.3</td>\n",
       "    </tr>\n",
       "    <tr>\n",
       "      <th>E</th>\n",
       "      <td>95655.4</td>\n",
       "    </tr>\n",
       "  </tbody>\n",
       "</table>\n",
       "</div>"
      ],
      "text/plain": [
       "       实际金额\n",
       "地点         \n",
       "A   42542.6\n",
       "B   53970.3\n",
       "C   61572.1\n",
       "D   33243.3\n",
       "E   95655.4"
      ]
     },
     "execution_count": 32,
     "metadata": {},
     "output_type": "execute_result"
    }
   ],
   "source": [
    "data1[['实际金额','地点']].groupby('地点').sum()"
   ]
  },
  {
   "cell_type": "markdown",
   "metadata": {},
   "source": [
    "# 数据的可视化"
   ]
  },
  {
   "cell_type": "code",
   "execution_count": 36,
   "metadata": {},
   "outputs": [],
   "source": [
    "import matplotlib.pyplot as plt\n",
    "import matplotlib \n",
    "matplotlib.rcParams['font.sans-serif']=['SimHei']   # 用黑体显示中文\n",
    "matplotlib.rcParams['axes.unicode_minus']=False     # 正常显示负号"
   ]
  },
  {
   "cell_type": "code",
   "execution_count": 45,
   "metadata": {},
   "outputs": [
    {
     "data": {
      "image/png": "[encoded data removed]",
      "text/plain": [
       "<Figure size 432x288 with 1 Axes>"
      ]
     },
     "metadata": {
      "needs_background": "light"
     },
     "output_type": "display_data"
    }
   ],
   "source": [
    "data = data1[['实际金额','地点']].groupby('地点').sum()\n",
    "hist = data.plot(kind='barh')"
   ]
  },
  {
   "cell_type": "markdown",
   "metadata": {},
   "source": [
    "# 地区画像 "
   ]
  },
  {
   "cell_type": "code",
   "execution_count": null,
   "metadata": {},
   "outputs": [],
   "source": []
  },
  {
   "cell_type": "markdown",
   "metadata": {},
   "source": [
    "# 销售额的预测 "
   ]
  },
  {
   "cell_type": "code",
   "execution_count": null,
   "metadata": {},
   "outputs": [],
   "source": []
  },
  {
   "cell_type": "markdown",
   "metadata": {},
   "source": [
    "# 撰写报告和提交文件 "
   ]
  },
  {
   "cell_type": "code",
   "execution_count": null,
   "metadata": {},
   "outputs": [],
   "source": []
  }
 ],
 "metadata": {
  "kernelspec": {
   "display_name": "Python 3",
   "language": "python",
   "name": "python3"
  },
  "language_info": {
   "codemirror_mode": {
    "name": "ipython",
    "version": 3
   },
   "file_extension": ".py",
   "mimetype": "text/x-python",
   "name": "python",
   "nbconvert_exporter": "python",
   "pygments_lexer": "ipython3",
   "version": "3.7.1"
  }
 },
 "nbformat": 4,
 "nbformat_minor": 2
}
